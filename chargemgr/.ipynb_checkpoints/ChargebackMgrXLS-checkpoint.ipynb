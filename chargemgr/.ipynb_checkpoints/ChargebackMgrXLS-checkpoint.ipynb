{
 "cells": [
  {
   "cell_type": "code",
   "execution_count": 37,
   "metadata": {
    "collapsed": true
   },
   "outputs": [],
   "source": [
    "# Calculates chargebacks\n",
    "\n",
    "# input:  .csv file made in Excel containing journal of activites\n",
    "#      date, time, chargeback category, comments\n",
    "# output: report of date, chargeback category, total time\n",
    "#\n",
    "import os\n",
    "import csv \n",
    "import sys\n",
    "from numpy import genfromtxt\n",
    "from operator import itemgetter\n"
   ]
  },
  {
   "cell_type": "code",
   "execution_count": 38,
   "metadata": {
    "collapsed": false
   },
   "outputs": [],
   "source": [
    "def listfiles(path):                  # prints a list of the files in the current path\n",
    "    print(\"\\n\"+path)\n",
    "    \n",
    "    filelist = os.listdir(path)\n",
    "    for i in filelist:\n",
    "        if os.path.isfile(i):\n",
    "            print(\"    \"+i)"
   ]
  },
  {
   "cell_type": "code",
   "execution_count": 62,
   "metadata": {
    "collapsed": false
   },
   "outputs": [],
   "source": [
    "def getfoldername():             # get folder name that contains the data file\n",
    "    \n",
    "    # displays the current working directory\n",
    "    # asks for the name of the directory that contains the input file.  \n",
    "    # if the requested directory does not exists, a new one will be created.\n",
    "    # returns the full path of the directory\n",
    "       \n",
    "    path = os.getcwd()\n",
    "    print('Current path: '+ path)      \n",
    "    listfiles(path)                   # prints a list of the files in the current path\n",
    "\n",
    "    yesorno = str(raw_input(\"      Is the data in this folder? (y/n)\"))           \n",
    "    while (yesorno != 'y' and yesorno != 'Y'):\n",
    "        path = str(raw_input(\"What folder is the data in? \"))\n",
    "        listfiles(path)                   # prints a list of the files in the current path\n",
    "        yesorno = str(raw_input(\"    Is this the right path?  \"+path))\n",
    "        print(yesorno)\n",
    "    if not os.path.exists(path):      \n",
    "        os.makedirs(path)\n",
    "    os.chdir(path)                    \n",
    "    \n",
    "    return(path)"
   ]
  },
  {
   "cell_type": "code",
   "execution_count": 60,
   "metadata": {
    "collapsed": false
   },
   "outputs": [],
   "source": [
    "def getfilename(path):             # get folder name that contains the data file\n",
    "    \n",
    "    # asks for the name of the input file.  \n",
    "    # if the requested file does not exist ask again.\n",
    "    # returns the full path of the file\n",
    "       \n",
    "    os.chdir(path)                    \n",
    "    filename = str(raw_input(\"Which file contains the data? \"))           \n",
    "    while os.path.isfile(filename) == 0:\n",
    "        filename = str(raw_input(\"That file does not exist.  Try again. (x to exit) \"))\n",
    "        if filename == 'x':\n",
    "            print(\"exit requested\")\n",
    "            sys.exit(0)\n",
    "    path = os.path.join(path,filename)\n",
    "    return(path)"
   ]
  },
  {
   "cell_type": "code",
   "execution_count": 50,
   "metadata": {
    "collapsed": false
   },
   "outputs": [],
   "source": [
    "# open the file                         # copies the data from the file into a list of lists and deletes blank records\n",
    "def opencsv(path,filename):\n",
    "    fullname = os.path.join(path,filename)\n",
    "    print(fullname)\n",
    "    filepointer = open(fullname)          \n",
    "    indata = list(csv.reader(filepointer))\n",
    "    del indata[0]                      # delete the title line from the data\n",
    "    i = 0\n",
    "    while i < len(indata) :\n",
    "        if indata[i][1] == \"\" :\n",
    "            del indata[i]              # delete any lines without a time from the data\n",
    "        else :\n",
    "            i = i+1\n",
    "    \n",
    "    return(indata)\n",
    "    "
   ]
  },
  {
   "cell_type": "code",
   "execution_count": 42,
   "metadata": {
    "collapsed": true
   },
   "outputs": [],
   "source": [
    "def qtrround(x):\n",
    "    return round(x*4)/4"
   ]
  },
  {
   "cell_type": "code",
   "execution_count": 43,
   "metadata": {
    "collapsed": false
   },
   "outputs": [],
   "source": [
    "def calcduration(indata):            # calculates the duration of the task for all tasks listed in indata, and appends it to the list\n",
    "\n",
    "    for i in range(0,len(indata)-1):                      # calculation is not possible for the last item since there is no \n",
    "                                                          # item to read the endtimme from.\n",
    "        if indata[i][2] == \"depart\" :\n",
    "            indata[i].append(0.0)                         # depart records have no duration\n",
    "        elif indata[i][1] != \"\" :\n",
    "            starttime = time2num(indata[i][1])\n",
    "            endtime = time2num(indata[i+1][1])\n",
    "            if starttime > 0 and endtime > starttime :\n",
    "                duration = qtrround(endtime - starttime)\n",
    "                indata[i].append(duration)                        # add the resulting duration to the end of it's list.\n",
    "            else:\n",
    "                print(indata[i])\n",
    "                print(\"     \",indata[i+1])\n",
    "                print(\"duration = \",duration)\n",
    "                sys.exit(0)\n",
    "\n",
    "    indata[i+1].append(0.0)                               # give the last line a duration of 0.0\n",
    "    return(indata)"
   ]
  },
  {
   "cell_type": "code",
   "execution_count": 44,
   "metadata": {
    "collapsed": false
   },
   "outputs": [],
   "source": [
    "def time2num(timevalue):\n",
    "    if timevalue != '':\n",
    "        hour = float(timevalue.split(\":\")[0])\n",
    "\n",
    "        minute = timevalue.split(\":\")[-1]\n",
    "        minute = minute[0:2]\n",
    "        minute = float(minute)/60                          # value of the minutes as a fraction of an hour\n",
    "        \n",
    "        amorpm = timevalue[-2]\n",
    "\n",
    "        timevalue = hour + minute\n",
    "        if amorpm == \"P\" and hour != 12:                                  # convert to 24 hour clock\n",
    "            timevalue = timevalue +12.0\n",
    "        elif amorpm == \"A\" and hour == 12:\n",
    "            timevalue = timevalue -12.0\n",
    "    else:\n",
    "        timevalue = float(\"-1\")                            # negative value signals the data is irrelevant\n",
    "    return(timevalue)"
   ]
  },
  {
   "cell_type": "code",
   "execution_count": 45,
   "metadata": {
    "collapsed": false
   },
   "outputs": [],
   "source": [
    "def printlist(listdata):\n",
    "    \n",
    "    for i in range(0,len(listdata)):\n",
    "        for j in range(0,len(listdata[i])):\n",
    "            sys.stdout.write(str(listdata[i][j])+\",    \")\n",
    "        print(\" \\n\")\n",
    "            \n"
   ]
  },
  {
   "cell_type": "code",
   "execution_count": 46,
   "metadata": {
    "collapsed": false
   },
   "outputs": [],
   "source": [
    "def sumcategories(indata):\n",
    "    date = indata[0][0]                              # reads first line date\n",
    "    category = indata[0][3]                          # reads first line category\n",
    "    catsums = []\n",
    "    sum = 0.0                                        # initialize the sum\n",
    "    for i in range(0,len(indata)-1):                 # for every line in the data, except the last line\n",
    "        sum = sum + indata[i][-1]                            # sum the durations\n",
    "        nextcategory = indata[i+1][3]\n",
    "        nextdate = indata[i+1][0]                    # check to see if the next category& date are the same as this one.\n",
    "        if category != nextcategory or date != nextdate:                             # if not,\n",
    "            catsums.append([indata[i][0],indata[i][3],sum])       # store the sum for the current date & category\n",
    "            sum = 0                                    # starts the new summation\n",
    "        category = nextcategory\n",
    "        date = nextdate\n",
    "    return(catsums)       \n",
    "        "
   ]
  },
  {
   "cell_type": "code",
   "execution_count": null,
   "metadata": {
    "collapsed": true
   },
   "outputs": [],
   "source": []
  },
  {
   "cell_type": "code",
   "execution_count": 61,
   "metadata": {
    "collapsed": false
   },
   "outputs": [
    {
     "name": "stdout",
     "output_type": "stream",
     "text": [
      "Current path: c:\\Users\\laughreyl\\documents\\Python_Scripts\n",
      "----- file list ------\n",
      "\n",
      "c:\\Users\\laughreyl\\documents\\Python_Scripts\n",
      "    Daily Log.xlsx\n",
      "    daily_log.csv\n",
      "    daily_log_short.csv\n",
      "    ~$Daily Log.xlsx\n",
      "      Is the data in this folder? (y/n)y\n",
      "Which file contains the data? daily_log_short.csv\n",
      "c:\\Users\\laughreyl\\documents\\Python_Scripts\\daily_log_short.csv\n",
      "2/24/2016,    ,    0.0,     \n",
      "\n",
      "2/24/2016,    Classes and training ,    2.0,     \n",
      "\n",
      "2/24/2016,    GENIE Fly work ,    0.25,     \n",
      "\n",
      "2/24/2016,    GI meetings ,    1.0,     \n",
      "\n",
      "2/24/2016,    Heberlein imaging Jasper,    1.5,     \n",
      "\n",
      "2/24/2016,    Huston imaging ,    1.75,     \n",
      "\n",
      "2/24/2016,    Other imaging Martin,    0.5,     \n",
      "\n",
      "2/24/2016,    PTR chores,    0.75,     \n",
      "\n",
      "2/24/2016,    lunch,    0.5,     \n",
      "\n",
      "2/24/2016,    who?,    0.25,     \n",
      "\n",
      "2/25/2016,    ,    0.0,     \n",
      "\n",
      "2/25/2016,    Classes and training ,    0.25,     \n",
      "\n",
      "2/25/2016,    Dickson Courtship assay,    1.75,     \n",
      "\n",
      "2/25/2016,    GI meetings ,    1.0,     \n",
      "\n",
      "2/25/2016,    Heberlein imaging Jasper,    1.5,     \n",
      "\n",
      "2/25/2016,    Huston imaging ,    1.0,     \n",
      "\n",
      "2/25/2016,    PTR chores,    2.25,     \n",
      "\n",
      "2/25/2016,    lunch,    0.5,     \n",
      "\n",
      "2/26/2016,    ,    0.0,     \n",
      "\n",
      "2/26/2016,    Classes and training ,    2.0,     \n",
      "\n",
      "2/26/2016,    Dickson Courtship assay,    2.0,     \n",
      "\n",
      "2/26/2016,    GI meetings ,    0.5,     \n",
      "\n",
      "2/26/2016,    Heberlein imaging Jasper,    0.75,     \n",
      "\n",
      "2/26/2016,    PTR chores,    2.75,     \n",
      "\n",
      "2/26/2016,    evacuation,    0.5,     \n",
      "\n"
     ]
    }
   ],
   "source": [
    "# main program\n",
    "\n",
    "path = getfoldername()\n",
    "filename = getfilename(path) \n",
    "indata = opencsv(path,filename)\n",
    "\n",
    "\n",
    "indata = calcduration(indata)\n",
    "indata = sorted(indata, key=itemgetter(0,3))           # sorts by date, then category\n",
    "\n",
    "\n",
    "catsums = sumcategories(indata)\n",
    "printlist(catsums)\n"
   ]
  },
  {
   "cell_type": "code",
   "execution_count": null,
   "metadata": {
    "collapsed": true
   },
   "outputs": [],
   "source": []
  }
 ],
 "metadata": {
  "kernelspec": {
   "display_name": "Python 2",
   "language": "python",
   "name": "python2"
  },
  "language_info": {
   "codemirror_mode": {
    "name": "ipython",
    "version": 2
   },
   "file_extension": ".py",
   "mimetype": "text/x-python",
   "name": "python",
   "nbconvert_exporter": "python",
   "pygments_lexer": "ipython2",
   "version": "2.7.11"
  }
 },
 "nbformat": 4,
 "nbformat_minor": 0
}
