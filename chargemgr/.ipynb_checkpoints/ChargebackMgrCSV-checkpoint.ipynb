{
 "cells": [
  {
   "cell_type": "code",
   "execution_count": 102,
   "metadata": {
    "collapsed": true
   },
   "outputs": [],
   "source": [
    "# Calculates various information for chargebacks\n",
    "\n",
    "# input:  .csv file made in Excel containing journal of activites\n",
    "#      date, col_time, chargeback category, comments\n",
    "# output: report of date, chargeback category, total col_time\n",
    "#\n",
    "import os\n",
    "import csv \n",
    "import sys\n",
    "from numpy import genfromtxt\n",
    "from operator import itemgetter\n",
    "\n",
    "# column numbers from input file\n",
    "col_day = 0\n",
    "col_time = 1\n",
    "col_category = 2\n",
    "col_comment = 3\n",
    "col_slide = 4\n",
    "col_duration = -1             # this column is not in the input file\n"
   ]
  },
  {
   "cell_type": "code",
   "execution_count": 103,
   "metadata": {
    "collapsed": false
   },
   "outputs": [],
   "source": [
    "def listfiles(path):                  # prints a list of the files in the current path\n",
    "    print(\"\\n\"+path+\"\\n\")\n",
    "    os.chdir(path)\n",
    "    filelist = os.listdir(path)\n",
    "    for i in filelist:\n",
    "        if os.path.isfile(i):\n",
    "            print(\"    \"+i)"
   ]
  },
  {
   "cell_type": "code",
   "execution_count": 104,
   "metadata": {
    "collapsed": false
   },
   "outputs": [],
   "source": [
    "def getfoldername():             # get folder name that contains the data file from user\n",
    "    \n",
    "    # displays the current working directory\n",
    "    # asks for the name of the directory that contains the input file.  \n",
    "    # if the requested directory does not exists, a new one will be created.\n",
    "    # returns the full path of the directory\n",
    "       \n",
    "    path = os.getcwd()\n",
    "    print('\\n \\n \\n Current path: '+ path)      \n",
    "    listfiles(path)                   # prints a list of the files in the current path\n",
    "\n",
    "    yesorno = str(raw_input(\"      Is the correct path? (y/n)\"))           \n",
    "    while (yesorno != 'y' and yesorno != 'Y'):\n",
    "        path = str(raw_input(\"What folder is the data in? \"))\n",
    "        if os.path.exists(path):\n",
    "            listfiles(path)                   # prints a list of the files in the current path\n",
    "        yesorno = str(raw_input(path+\" \\n \\n \\n   Is this the correct path (Y/N)?  \"))\n",
    "    if not os.path.exists(path):      \n",
    "        os.makedirs(path)\n",
    "    os.chdir(path)                    \n",
    "    return(path)"
   ]
  },
  {
   "cell_type": "code",
   "execution_count": 105,
   "metadata": {
    "collapsed": false
   },
   "outputs": [],
   "source": [
    "def getfilename(path):             # get folder name that contains the data file from the user\n",
    "    \n",
    "    # asks for the name of the input file.  \n",
    "    # if the requested file does not exist ask again.\n",
    "    # returns the full path of the file.\n",
    "       \n",
    "    os.chdir(path)                    \n",
    "    filename = str(raw_input(\"\\n \\n \\n Which file contains the data? \"))           \n",
    "    while os.path.isfile(filename) == 0:\n",
    "        filename = str(raw_input(\"\\n \\n That file does not exist.  Try again. (x to exit) \"))\n",
    "        if filename == 'x':\n",
    "            print(\"\\n \\n \\n exit requested (filename)\")\n",
    "            sys.exit(0)\n",
    "    \n",
    "    return(filename)"
   ]
  },
  {
   "cell_type": "code",
   "execution_count": 106,
   "metadata": {
    "collapsed": false
   },
   "outputs": [],
   "source": [
    "def deleteblank(listname, colnum):  # delete any lines with no entry in column \"colnum\", and trim blanks off right end of strings\n",
    "    i = 0\n",
    "    while i < len(listname) :\n",
    "        if listname[i][colnum] == \"\" :\n",
    "            del listname[i]              # delete any lines without a col_time from the data\n",
    "        else :\n",
    "            for j in range(0,len(listname[i])):          # strip off blank characters so they don't cause sorting issues\n",
    "                        \n",
    "                if (type(listname[i][j]) == 'str'):\n",
    "                    listname[i][j] = listname[i][j].rstrip()\n",
    "            i = i+1\n",
    "    result = listname\n",
    "    return(result)"
   ]
  },
  {
   "cell_type": "code",
   "execution_count": 107,
   "metadata": {
    "collapsed": false
   },
   "outputs": [],
   "source": [
    "# open the file                         # copies the data from the file into a list of lists and deletes blank records\n",
    "def opencsv(path,filename):\n",
    "    fullname = os.path.join(path,filename)\n",
    "    print(fullname)\n",
    "    filepointer = open(fullname)                   # open the file\n",
    "    indata = list(csv.reader(filepointer))         # read into list\n",
    "    filepointer.close()                            # close the file\n",
    "    del indata[0]                                # delete the title line from the data\n",
    "    indata = deleteblank(indata, col_time)    # delete any lines with no col_time entry, and trim blanks off right end of strings\n",
    "    return(indata)\n",
    "    "
   ]
  },
  {
   "cell_type": "code",
   "execution_count": 108,
   "metadata": {
    "collapsed": true
   },
   "outputs": [],
   "source": [
    "def qtrround(x):                       # rounds time values to the nearest quarter\n",
    "    return round(x*4)/4"
   ]
  },
  {
   "cell_type": "code",
   "execution_count": 109,
   "metadata": {
    "collapsed": false
   },
   "outputs": [],
   "source": [
    "def calcduration(indata):            # calculates the duration of the task for all tasks listed in indata, and appends it to the end of the row\n",
    "\n",
    "    for i in range(0,len(indata)-1):                      # calculation is not possible for the last item since there is no following time\n",
    "        if (indata[i][col_category].find(\"depart\") != -1) \\\n",
    "            or (indata[i][col_category].find(\"lunch\") != -1) :\n",
    "            indata[i].append(0.0)                         # depart & lunch records have no duration\n",
    "        elif indata[i][col_day] == indata[i+1][col_day] :\n",
    "            startcol_time = col_time2num(indata[i][col_time])\n",
    "            endcol_time = col_time2num(indata[i+1][col_time])\n",
    "            if startcol_time > 0 and endcol_time > startcol_time :\n",
    "                    duration = qtrround(endcol_time - startcol_time)\n",
    "                    indata[i].append(duration)                        # add the resulting duration to the end of it's list.\n",
    "            else:\n",
    "                print(\"col_times are out of order\")\n",
    "                print(\"\\n \\n \\n calcduration error \\n \\n \\n record = \",indata[i])\n",
    "                print(\" next record = \",indata[i+1])\n",
    "                print(\" duration = \",duration)\n",
    "                sys.exit(0)\n",
    "        elif (indata[i][col_day] != indata[i+1][col_day]):\n",
    "            print(\"\\n \\n \\n No departure time was available for \",indata[i][col_day])\n",
    "            sys.exit(0)\n",
    "        else:\n",
    "            print(\"Something's wrong. \\n \\n \",indata[i],indata[i+1])\n",
    "            sys.exit(0)\n",
    "           \n",
    "            \n",
    "\n",
    "    indata[i+1].append(0.0)                               # give the last line a duration of 0.0\n",
    "    return(indata)"
   ]
  },
  {
   "cell_type": "code",
   "execution_count": 110,
   "metadata": {
    "collapsed": false
   },
   "outputs": [],
   "source": [
    "def col_time2num(col_timevalue):     # calculates the number of hours from string \"hh:mm ?m\"\n",
    "    if col_timevalue != '':\n",
    "        hour = float(col_timevalue.split(\":\")[0])          # hours are specified by digits before the :\n",
    "\n",
    "        minute = col_timevalue.split(\":\")[-1]              # minutes are specified by digits after the :\n",
    "        minute = minute[0:2]\n",
    "        minute = float(minute)/60                          # value of the minutes as a fraction of an hour\n",
    "        \n",
    "        amorpm = col_timevalue[-2]                         # read am or pm value\n",
    "\n",
    "        col_timevalue = hour + minute                     # total the number of hours\n",
    "        if amorpm == \"P\" and hour != 12:                  # convert to 24 hour clock\n",
    "            col_timevalue = col_timevalue +12.0\n",
    "        elif amorpm == \"A\" and hour == 12:\n",
    "            col_timevalue = col_timevalue -12.0\n",
    "    else:\n",
    "        col_timevalue = float(\"-1\")                       # negative value signals the time column is blank\n",
    "    return(col_timevalue)"
   ]
  },
  {
   "cell_type": "code",
   "execution_count": 111,
   "metadata": {
    "collapsed": false
   },
   "outputs": [],
   "source": [
    "def printlist(listdata):                    # prints a list in a table format\n",
    "    \n",
    "    for i in range(0,len(listdata)):\n",
    "        for j in range(0,len(listdata[i])-1):\n",
    "            sys.stdout.write(str(listdata[i][j])+\",    \")\n",
    "        print(\" \\n\")\n",
    "            \n"
   ]
  },
  {
   "cell_type": "code",
   "execution_count": 112,
   "metadata": {
    "collapsed": false
   },
   "outputs": [],
   "source": [
    "def sumcategories(indata):                 # sums the durations that have the same date and category and creates a table\n",
    "    \n",
    "    date = indata[0][col_day]                              # reads first line date\n",
    "    category = indata[0][col_category]                          # reads first line category\n",
    "    catsums = []\n",
    "    thesum = 0.0                                        # initialize the thesum\n",
    "    for i in range(0,len(indata)-1):                    # for every line in the data, except the last line\n",
    "        thesum = thesum + indata[i][col_duration]                            # sum the durations\n",
    "        nextcategory = indata[i+1][col_category]\n",
    "        nextdate = indata[i+1][col_day]                    # check to see if the next category & date are the same as this one.\n",
    "        if (category != nextcategory or date != nextdate):                             # if not,\n",
    "            indata[i].append(thesum)\n",
    "            catsums.append(indata[i])       # store the details and the sum for the current date & category\n",
    "            thesum = 0.0                                    # starts the new summation\n",
    "        else:\n",
    "            catsums.append(indata[i])       # store the details for the current date & category, but no sum\n",
    "        category = nextcategory\n",
    "        date = nextdate\n",
    "     \n",
    "    return(catsums)       \n",
    "        "
   ]
  },
  {
   "cell_type": "code",
   "execution_count": 113,
   "metadata": {
    "collapsed": false
   },
   "outputs": [],
   "source": [
    "def hoursperday(indata):\n",
    "    date = indata[0][col_day]                              # reads first line date\n",
    "    dailyhours = []\n",
    "    thesum = 0.0                                        # initialize the thesum\n",
    "    for i in range(0,len(indata)-1):                 # for every line in the data, except the last line\n",
    "        thesum = thesum + indata[i][col_duration]                            # thesum the durations\n",
    "        nextdate = indata[i+1][col_day]                    # check to see if the next category& date are the same as this one.\n",
    "        if (date != nextdate):                             # if not,\n",
    "            dailyhours.append([indata[i][col_day],thesum])       # store the thesum for the current date & category\n",
    "            thesum = 0                                    # starts the new thesummation\n",
    "        date = nextdate\n",
    "    thesum = thesum + indata[i+1][col_duration]                            # thesum the durations\n",
    "    dailyhours.append([indata[i][col_day],thesum])       # store the last record and the thesum\n",
    "    return(dailyhours)"
   ]
  },
  {
   "cell_type": "code",
   "execution_count": 114,
   "metadata": {
    "collapsed": true
   },
   "outputs": [],
   "source": [
    "def sumcolumn(indata,column):\n",
    "    sorteddata = sorted(indata, key=itemgetter(column))     # sort by the column of interest\n",
    "    value = indata[0][col_duration]                              # reads duration of first task\n",
    "    results = []\n",
    "    thesum = 0.0                                        # initialize the thesum\n",
    "    listcnt = 0\n",
    "    for i in range(0,len(indata)-1):                 # for every line in the data, except the last line\n",
    "        thesum = thesum + indata[i][col_duration]          # sum the durations\n",
    "        nextvalue = indata[i+1][column]                    # check to see if the next value is the same as this one.\n",
    "        if (value != nextvalue):                             # if not,\n",
    "            results.append([\"Total \",indata[i][column],thesum])       # store the sum for this column\n",
    "            thesum = 0                                    # starts the new esummation\n",
    "        results.append([indata[i]])\n",
    "        \n",
    "        print(\"i = \",i,indata[i])\n",
    "        \n",
    "        value = nextvalue\n",
    "    thesum = thesum + indata[i+1][col_duration]                            # thesum the durations\n",
    "    results.append([indata[i][column],thesum])       # store the last record and the thesum\n",
    "    return(results)"
   ]
  },
  {
   "cell_type": "code",
   "execution_count": 115,
   "metadata": {
    "collapsed": false
   },
   "outputs": [],
   "source": [
    "def sumslides(indata):\n",
    "    current = indata[0][col_slide]                              # reads slide number\n",
    "    result = []\n",
    "    sum = 0.0                                        # initialize the sum\n",
    "    for i in range(0,len(indata)-1):                 # for every line in the data, except the last line\n",
    "        sum = sum + indata[i][col_duration]                            # sum the durations\n",
    "        nextval = indata[i+1][col_slide]                    # check to see if the next entry is the same as this one.\n",
    "        if current != nextval:                             # if not,\n",
    "            result.append([indata[i][col_day],indata[i][col_slide],sum])       # store the current record and the sum\n",
    "            sum = 0                                    # starts the new summation\n",
    "        current = nextval\n",
    "    sum = sum + indata[i+1][col_duration]                            # sum the durations\n",
    "    result.append([indata[i][col_day],indata[i][col_slide],sum])       # store the last record and the sum\n",
    "    return(result)"
   ]
  },
  {
   "cell_type": "code",
   "execution_count": 116,
   "metadata": {
    "collapsed": true
   },
   "outputs": [],
   "source": [
    "def savedata(listname, savefile):\n",
    "#     savefile = str(raw_input(\"Save as (filename.cvs)? \")+\".csv\")  # save the file. \".csv\" will be added to the end of the filename.\n",
    "    savehdl = open(savefile, 'wb')\n",
    "    wr = csv.writer(savehdl)\n",
    "    wr.writerows(listname)\n",
    "    savehdl.close()"
   ]
  },
  {
   "cell_type": "code",
   "execution_count": 117,
   "metadata": {
    "collapsed": false
   },
   "outputs": [
    {
     "name": "stdout",
     "output_type": "stream",
     "text": [
      "\n",
      " \n",
      " \n",
      " Current path: C:\\Users\\laughreyl\\Documents\\chargebacks\\20160725\n",
      "\n",
      "C:\\Users\\laughreyl\\Documents\\chargebacks\\20160725\n",
      "\n",
      "    Chargebacks Lori 20160725.xlsx\n",
      "    Daily_log_20160725 + 20160620.csv\n",
      "    Daily_log_20160725 + 20160620.xlsx\n",
      "    Daily_log_20160725.csv\n",
      "    Daily_log_20160725.xlsx\n",
      "    hourspercat.csv\n",
      "    hoursperday.csv\n",
      "    hoursperslide.csv\n",
      "    hourspertask.csv\n",
      "      Is the data in this path? (y/n)y\n",
      "\n",
      " \n",
      " \n",
      " Which file contains the data? Daily_log_20160725.csv\n",
      "C:\\Users\\laughreyl\\Documents\\chargebacks\\20160725\\Daily_log_20160725.csv\n",
      "Saving the number of hours worked per task.\n",
      "Saving the number of hours worked per day.\n",
      "Saving the number of hours worked per category.\n",
      "Saving the number of hours worked per slide.\n",
      " \n",
      " Done.\n"
     ]
    }
   ],
   "source": [
    "# main program\n",
    "\n",
    "path = getfoldername()\n",
    "filename = getfilename(path) \n",
    "indata = opencsv(path,filename)                        # opens the file and deletes rows with no col_time entries\n",
    "\n",
    "indata = sorted(calcduration(indata), key=itemgetter(col_day,col_slide,col_category))                          # calculates the duration of each task listed\n",
    "print(\"Saving the number of hours worked per task.\")\n",
    "savedata(indata,\"hourspertask.csv\")\n",
    "\n",
    "sorteddate = sorted(indata, key=itemgetter(col_day))           # sorts by date\n",
    "totals = hoursperday(sorteddate)                        # calculates the number of hours worked each \n",
    "print(\"Saving the number of hours worked per day.\")\n",
    "savedata(totals,\"hoursperday.csv\")\n",
    "\n",
    "sortedcat = sorted(indata, key=itemgetter(col_day,col_category))           # sorts by date, then category\n",
    "catsums = sumcategories(sortedcat)                        # sums durations for all tasks with matching date and category\n",
    "print(\"Saving the number of hours worked per category.\")\n",
    "savedata(catsums,\"hourspercat.csv\")\n",
    "\n",
    "sortedslide = deleteblank(indata, col_slide)                      # deletes any row that doesn't have a slide name\n",
    "sortedslide = sorted(indata, key=itemgetter(col_slide))           # sorts remaining data by slide name\n",
    "slidesums = sumslides(sortedslide)              # sums durations for each slide name\n",
    "print(\"Saving the number of hours worked per slide.\")\n",
    "savedata(slidesums,\"hoursperslide.csv\")\n",
    "\n",
    "print(\" \\n Done.\")\n",
    "\n",
    "\n"
   ]
  },
  {
   "cell_type": "raw",
   "metadata": {
    "collapsed": true
   },
   "source": []
  },
  {
   "cell_type": "code",
   "execution_count": null,
   "metadata": {
    "collapsed": true
   },
   "outputs": [],
   "source": []
  }
 ],
 "metadata": {
  "kernelspec": {
   "display_name": "Python 2",
   "language": "python",
   "name": "python2"
  },
  "language_info": {
   "codemirror_mode": {
    "name": "ipython",
    "version": 2
   },
   "file_extension": ".py",
   "mimetype": "text/x-python",
   "name": "python",
   "nbconvert_exporter": "python",
   "pygments_lexer": "ipython2",
   "version": "2.7.11"
  }
 },
 "nbformat": 4,
 "nbformat_minor": 0
}
