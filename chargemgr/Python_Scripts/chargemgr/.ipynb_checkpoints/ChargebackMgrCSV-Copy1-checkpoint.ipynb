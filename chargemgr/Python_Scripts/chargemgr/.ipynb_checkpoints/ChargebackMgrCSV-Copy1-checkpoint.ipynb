{
 "cells": [
  {
   "cell_type": "code",
   "execution_count": 1,
   "metadata": {
    "collapsed": true
   },
   "outputs": [],
   "source": [
    "# Calculates various information for chargebacks\n",
    "\n",
    "# input:  .csv file made in Excel containing journal of activites\n",
    "#      date, col_time, chargeback category, comments\n",
    "# output: report of date, chargeback category, total col_time\n",
    "#\n",
    "import os\n",
    "import csv \n",
    "import sys\n",
    "from numpy import genfromtxt\n",
    "from operator import itemgetter\n",
    "#from termcolor import  \n",
    "\n",
    "\n",
    "# column numbers\n",
    "col_day = 0\n",
    "col_time = 1\n",
    "col_category = 2\n",
    "col_comment = 3\n",
    "col_slide = 4\n",
    "col_duration = -1\n"
   ]
  },
  {
   "cell_type": "code",
   "execution_count": 2,
   "metadata": {
    "collapsed": false
   },
   "outputs": [],
   "source": [
    "def listfiles(path):                  # prints a list of the files in the current path\n",
    "    print(\"\\n\"+path+\"\\n\")\n",
    "    os.chdir(path)\n",
    "    filelist = os.listdir(path)\n",
    "    for i in filelist:\n",
    "        if os.path.isfile(i):\n",
    "            print(\"    \"+i)"
   ]
  },
  {
   "cell_type": "code",
   "execution_count": 3,
   "metadata": {
    "collapsed": false
   },
   "outputs": [],
   "source": [
    "def getfoldername():             # get folder name that contains the data file\n",
    "    \n",
    "    # displays the current working directory\n",
    "    # asks for the name of the directory that contains the input file.  \n",
    "    # if the requested directory does not exists, a new one will be created.\n",
    "    # returns the full path of the directory\n",
    "       \n",
    "    path = os.getcwd()                # gets current working directory\n",
    "    print('\\n \\n \\n Current path: '+ path)      \n",
    "    listfiles(path)                   # prints a list of the files in the current path\n",
    "\n",
    "    yesorno = str(raw_input(\"      Is the data in this path? (y/n or x to exit)\"))           \n",
    "    while (yesorno != 'y' and yesorno != 'Y'):\n",
    "        path = str(raw_input(\"What folder is the data in? \"))\n",
    "        if path == 'x':\n",
    "            print(\"\\n \\n \\n exit requested at path\")\n",
    "            sys.exit(0)\n",
    "        elif os.path.exists(path):\n",
    "            listfiles(path)                   # prints a list of the files in the current path\n",
    "            yesorno = str(raw_input(path+\" \\n \\n \\n   Is this the right path (Y/N)?  \"))\n",
    "        else:\n",
    "            path = str(raw_input(\"\\n \\n That path does not exist.  Try again. (x to exit) \"))\n",
    "            \n",
    "    os.chdir(path)                    \n",
    "    return(path)"
   ]
  },
  {
   "cell_type": "code",
   "execution_count": 4,
   "metadata": {
    "collapsed": false
   },
   "outputs": [],
   "source": [
    "def getfilename(path):             # get folder name that contains the data file\n",
    "    \n",
    "    # asks for the name of the input file.  \n",
    "    # if the requested file does not exist ask again.\n",
    "    # returns the full path of the file\n",
    "       \n",
    "    os.chdir(path)                    \n",
    "    filename = str(raw_input(\"\\n \\n \\n Which file contains the data? \"))           \n",
    "    while os.path.isfile(filename) == 0:\n",
    "        filename = str(raw_input(\"\\n \\n That file does not exist.  Try again. (x to exit) \"))\n",
    "        if filename == 'x':\n",
    "            print(\"\\n \\n \\n exit requested at filename\")\n",
    "            sys.exit(0)\n",
    "    \n",
    "    return(filename)"
   ]
  },
  {
   "cell_type": "code",
   "execution_count": 5,
   "metadata": {
    "collapsed": false
   },
   "outputs": [],
   "source": [
    "def deleteblank(listname, colnum):  # delete any lines with no entry in column colnum, and trim blanks off right end of strings\n",
    "    i = 0\n",
    "    while i < len(listname) :\n",
    "        if listname[i][colnum] == \"\" :\n",
    "            del listname[i]              # delete any lines without a col_time from the data\n",
    "        else :\n",
    "            for j in range(0,len(listname[i])):\n",
    "                        \n",
    "                if (type(listname[i][j]) == 'str'):\n",
    "                    listname[i][j] = listname[i][j].rstrip()\n",
    "            i = i+1\n",
    "    result = listname\n",
    "    return(result)"
   ]
  },
  {
   "cell_type": "code",
   "execution_count": 6,
   "metadata": {
    "collapsed": false
   },
   "outputs": [],
   "source": [
    "# open the file                         # copies the data from the file into a list of lists and deletes blank records\n",
    "def opencsv(path,filename):\n",
    "    fullname = os.path.join(path,filename)\n",
    "    print(fullname)\n",
    "    filepointer = open(fullname)          \n",
    "    indata = list(csv.reader(filepointer))\n",
    "    filepointer.close()\n",
    "    del indata[0]                      # delete the title line from the data\n",
    "    indata = deleteblank(indata, col_time)    # delete any lines with no col_time entry, and trim blanks off right end of strings\n",
    "    return(indata)\n",
    "    "
   ]
  },
  {
   "cell_type": "code",
   "execution_count": 7,
   "metadata": {
    "collapsed": true
   },
   "outputs": [],
   "source": [
    "def qtrround(x):\n",
    "    return round(x*4)/4"
   ]
  },
  {
   "cell_type": "code",
   "execution_count": 8,
   "metadata": {
    "collapsed": false
   },
   "outputs": [],
   "source": [
    "def col_time2num(col_timevalue):     # calculates the number of hours from string \"hh:mm ?m\"\n",
    "    if col_timevalue != '':\n",
    "        hour = float(col_timevalue.split(\":\")[0])\n",
    "\n",
    "        minute = col_timevalue.split(\":\")[-1]\n",
    "        minute = minute[0:2]\n",
    "        minute = float(minute)/60                          # value of the minutes as a fraction of an hour\n",
    "        \n",
    "        amorpm = col_timevalue[-2]\n",
    "\n",
    "        col_timevalue = hour + minute\n",
    "        if amorpm == \"P\" and hour != 12:                                  # convert to 24 hour clock\n",
    "            col_timevalue = col_timevalue +12.0\n",
    "        elif amorpm == \"A\" and hour == 12:\n",
    "            col_timevalue = col_timevalue -12.0\n",
    "    else:\n",
    "        col_timevalue = float(\"-1\")                            # negative value signals the data is irrelevant\n",
    "    return(col_timevalue)"
   ]
  },
  {
   "cell_type": "code",
   "execution_count": 9,
   "metadata": {
    "collapsed": false
   },
   "outputs": [],
   "source": [
    "def calcduration(indata):            # calculates the duration of the task for all tasks listed in indata, and appends it to the list\n",
    "\n",
    "    worked = 0\n",
    "    while worked == 0 :\n",
    "        for i in range(0,len(indata)-1):                      # calculation is not possible for the last item since there is no \n",
    "            if (indata[i][col_category].find(\"depart\") != -1) \\\n",
    "                or (indata[i][col_category].find(\"lunch\") != -1) :\n",
    "                indata[i].append(0.0)                         # depart & lunch records have no duration\n",
    "            elif indata[i][col_day] == indata[i+1][col_day] :\n",
    "                startcol_time = col_time2num(indata[i][col_time])\n",
    "                endcol_time = col_time2num(indata[i+1][col_time])\n",
    "                if startcol_time > 0 and endcol_time > startcol_time :\n",
    "                    \n",
    "#                        print(\"Date, Start, Duration\",indata[i][col_day],startcol_time,endcol_time, qtrround(endcol_time - startcol_time))\n",
    "                    \n",
    "                        duration = qtrround(endcol_time - startcol_time)\n",
    "                        indata[i].append(duration)                        # add the resulting duration to the end of it's list.\n",
    "                else:\n",
    "                    print  (\"\\n \\n \\n col_times are out of order\", 'green')\n",
    "                    print(\"\\n \\n calcduration error\")\n",
    "                    print(\"\\n \\n \\n record = \",indata[i])\n",
    "                    print(\" next record = \",indata[i+1])\n",
    "                    print  (\"\\n \\n \\n Fix the file, then try again.\", 'red')\n",
    "                    path = getfoldername()\n",
    "                    filename = getfilename(path) \n",
    "                    indata = opencsv(path,filename)                        # opens the file and deletes rows with no col_time entries\n",
    "\n",
    "                   \n",
    "            elif (indata[i][col_day] != indata[i+1][col_day]):\n",
    "                print  (\"\\n \\n \\n No departure time was available for \",indata[i][col_day], 'green')\n",
    "                print  (\"\\n \\n \\n Fix the file, then try again.\", 'red')\n",
    "                path = getfoldername()\n",
    "                filename = getfilename(path) \n",
    "                indata = opencsv(path,filename)                        # opens the file and deletes rows with no col_time entries\n",
    "\n",
    "            else:\n",
    "                print  (\"Something's wrong. \\n \\n \",indata[i],indata[i+1], 'green')\n",
    "                print  (\"\\n \\n \\n Fix the file, then try again.\", 'red')\n",
    "                path = getfoldername()\n",
    "                filename = getfilename(path) \n",
    "                indata = opencsv(path,filename)                        # opens the file and deletes rows with no col_time entries\n",
    "\n",
    "        worked = 1\n",
    "    indata[i+1].append(0.0)                               # give the last line a duration of 0.0\n",
    "    return(indata)"
   ]
  },
  {
   "cell_type": "code",
   "execution_count": 10,
   "metadata": {
    "collapsed": false
   },
   "outputs": [],
   "source": [
    "def printlist(listdata):                    # prints a list in a table format\n",
    "    \n",
    "    for i in range(0,len(listdata)):\n",
    "        for j in range(0,len(listdata[i])-1):\n",
    "            sys.stdout.write(str(listdata[i][j])+\",    \")\n",
    "        print(\" \\n\")\n",
    "            \n"
   ]
  },
  {
   "cell_type": "code",
   "execution_count": 11,
   "metadata": {
    "collapsed": false
   },
   "outputs": [],
   "source": [
    "def sumcategories(indata):                 # sums the durations that have the same date and category and creates a table\n",
    "    \n",
    "    date = indata[0][col_day]                              # reads first line date\n",
    "    category = indata[0][col_category]                          # reads first line category\n",
    "    catsums = []\n",
    "    thesum = 0.0                                        # initialize the thesum\n",
    "    for i in range(0,len(indata)-1):                 # for every line in the data, except the last line\n",
    "        thesum = thesum + indata[i][col_duration]                            # thesum the durations\n",
    "        nextcategory = indata[i+1][col_category]\n",
    "        nextdate = indata[i+1][col_day]                    # check to see if the next category& date are the same as this one.\n",
    "        if (category != nextcategory or date != nextdate):                             # if not,\n",
    "            catsums.append([indata[i][col_day],indata[i][col_category],thesum])       # store the thesum for the current date & category\n",
    "            thesum = 0.0                                    # starts the new thesummation\n",
    "        category = nextcategory\n",
    "        date = nextdate\n",
    "    thesum = thesum + indata[i+1][col_duration]                            # thesum the durations\n",
    "    catsums.append([indata[i][col_day],indata[i][col_category],thesum])       # store the last record and the thesum\n",
    "    return(catsums)       \n",
    "        "
   ]
  },
  {
   "cell_type": "code",
   "execution_count": 12,
   "metadata": {
    "collapsed": false
   },
   "outputs": [],
   "source": [
    "def hoursperday(indata):\n",
    "    date = indata[0][col_day]                              # reads first line date\n",
    "    dailyhours = []\n",
    "    thesum = 0.0                                        # initialize the thesum\n",
    "    for i in range(0,len(indata)-1):                 # for every line in the data, except the last line\n",
    "#        print(\"hrsperday\", i, indata[i][col_day],indata[i][col_time],indata[i][col_duration], thesum)\n",
    "        thesum = thesum + indata[i][col_duration]                            # thesum the durations\n",
    "        nextdate = indata[i+1][col_day]                    # check to see if the next category& date are the same as this one.\n",
    "        if (date != nextdate):                             # if not,\n",
    "            dailyhours.append([indata[i][col_day],thesum])       # store the thesum for the current date & category\n",
    "            thesum = 0                                    # starts the new thesummation\n",
    "        date = nextdate\n",
    "    thesum = thesum + indata[i+1][col_duration]                            # thesum the durations\n",
    "    dailyhours.append([indata[i][col_day],thesum])       # store the last record and the thesum\n",
    "    return(dailyhours)"
   ]
  },
  {
   "cell_type": "code",
   "execution_count": 13,
   "metadata": {
    "collapsed": true
   },
   "outputs": [],
   "source": [
    "def sumcolumn(indata,column):\n",
    "    sorteddata = sorted(indata, key=itemgetter(column))     # sort by the column of interest\n",
    "    value = indata[0][col_duration]                              # reads duration of first task\n",
    "    results = []\n",
    "    thesum = 0.0                                        # initialize the thesum\n",
    "    listcnt = 0\n",
    "    for i in range(0,len(indata)-1):                 # for every line in the data, except the last line\n",
    "        thesum = thesum + indata[i][col_duration]          # sum the durations\n",
    "        nextvalue = indata[i+1][column]                    # check to see if the next value is the same as this one.\n",
    "        if (value != nextvalue):                             # if not,\n",
    "            results.append([\"Total \",indata[i][column],thesum])       # store the sum for this column\n",
    "            thesum = 0                                    # starts the new esummation\n",
    "        results.append([indata[i]])\n",
    "        \n",
    "        print(\"i = \",i,indata[i])\n",
    "        \n",
    "        value = nextvalue\n",
    "    thesum = thesum + indata[i+1][col_duration]                            # thesum the durations\n",
    "    results.append([indata[i][column],thesum])       # store the last record and the thesum\n",
    "    return(results)"
   ]
  },
  {
   "cell_type": "code",
   "execution_count": 14,
   "metadata": {
    "collapsed": false
   },
   "outputs": [],
   "source": [
    "def sumslides(indata):\n",
    "    current = indata[0][col_slide]                              # reads slide number\n",
    "    result = []\n",
    "    sum = 0.0                                        # initialize the sum\n",
    "    for i in range(0,len(indata)-1):                 # for every line in the data, except the last line\n",
    "        sum = sum + indata[i][col_duration]                            # sum the durations\n",
    "        nextval = indata[i+1][col_slide]                    # check to see if the next entry is the same as this one.\n",
    "        if current != nextval:                             # if not,\n",
    "            result.append([indata[i][col_day],indata[i][col_slide],sum])       # store the current record and the sum\n",
    "            sum = 0                                    # starts the new summation\n",
    "        current = nextval\n",
    "    sum = sum + indata[i+1][col_duration]                            # sum the durations\n",
    "    result.append([indata[i][col_day],indata[i][col_slide],sum])       # store the last record and the sum\n",
    "    return(result)"
   ]
  },
  {
   "cell_type": "code",
   "execution_count": 15,
   "metadata": {
    "collapsed": true
   },
   "outputs": [],
   "source": [
    "def savedata(listname, savefile):\n",
    "#     savefile = str(raw_input(\"Save as (filename.cvs)? \")+\".csv\")  # save the file. \".csv\" will be added to the end of the filename.\n",
    "    savehdl = open(savefile, 'wb')\n",
    "    wr = csv.writer(savehdl)\n",
    "    wr.writerows(listname)\n",
    "    savehdl.close()"
   ]
  },
  {
   "cell_type": "code",
   "execution_count": 16,
   "metadata": {
    "collapsed": false
   },
   "outputs": [
    {
     "name": "stdout",
     "output_type": "stream",
     "text": [
      "1\n",
      "\n",
      " \n",
      " \n",
      " Current path: u:\\Python_Scripts\\chargemgr\n",
      "\n",
      "u:\\Python_Scripts\\chargemgr\n",
      "\n",
      "    ChargebackMgrCSV-Copy1.ipynb\n",
      "      Is the data in this path? (y/n or x to exit)n\n",
      "What folder is the data in? c:\\users\\laughreyl\\documents\\chargebacks\\20160521\n",
      "\n",
      "c:\\users\\laughreyl\\documents\\chargebacks\\20160521\n",
      "\n",
      "    20160521_dailylog.csv\n",
      "    20160521_dailylog.xlsx\n",
      "c:\\users\\laughreyl\\documents\\chargebacks\\20160521 \n",
      " \n",
      " \n",
      "   Is this the right path (Y/N)?  y\n",
      "\n",
      " \n",
      " \n",
      " Which file contains the data? 20160521_dailylog.csv\n",
      "c:\\users\\laughreyl\\documents\\chargebacks\\20160521\\20160521_dailylog.csv\n",
      "2\n"
     ]
    },
    {
     "ename": "NameError",
     "evalue": "global name 'colored' is not defined",
     "output_type": "error",
     "traceback": [
      "\u001b[1;31m---------------------------------------------------------------------------\u001b[0m",
      "\u001b[1;31mNameError\u001b[0m                                 Traceback (most recent call last)",
      "\u001b[1;32m<ipython-input-16-578478820ea6>\u001b[0m in \u001b[0;36m<module>\u001b[1;34m()\u001b[0m\n\u001b[0;32m      7\u001b[0m \u001b[1;33m\u001b[0m\u001b[0m\n\u001b[0;32m      8\u001b[0m \u001b[1;32mprint\u001b[0m\u001b[1;33m(\u001b[0m\u001b[1;34m\"2\"\u001b[0m\u001b[1;33m)\u001b[0m\u001b[1;33m\u001b[0m\u001b[0m\n\u001b[1;32m----> 9\u001b[1;33m \u001b[0msortedtasks\u001b[0m \u001b[1;33m=\u001b[0m \u001b[0msorted\u001b[0m\u001b[1;33m(\u001b[0m\u001b[0mcalcduration\u001b[0m\u001b[1;33m(\u001b[0m\u001b[0mindata\u001b[0m\u001b[1;33m)\u001b[0m\u001b[1;33m,\u001b[0m \u001b[0mkey\u001b[0m\u001b[1;33m=\u001b[0m\u001b[0mitemgetter\u001b[0m\u001b[1;33m(\u001b[0m\u001b[0mcol_day\u001b[0m\u001b[1;33m,\u001b[0m\u001b[0mcol_slide\u001b[0m\u001b[1;33m,\u001b[0m\u001b[0mcol_category\u001b[0m\u001b[1;33m)\u001b[0m\u001b[1;33m)\u001b[0m                          \u001b[1;31m# calculates the duration of each task listed\u001b[0m\u001b[1;33m\u001b[0m\u001b[0m\n\u001b[0m\u001b[0;32m     10\u001b[0m \u001b[1;32mprint\u001b[0m\u001b[1;33m(\u001b[0m\u001b[1;34m\"Saving the number of hours worked per task.\"\u001b[0m\u001b[1;33m)\u001b[0m\u001b[1;33m\u001b[0m\u001b[0m\n\u001b[0;32m     11\u001b[0m \u001b[0msavedata\u001b[0m\u001b[1;33m(\u001b[0m\u001b[0msortedtasks\u001b[0m\u001b[1;33m,\u001b[0m\u001b[1;34m\"hourspertask.csv\"\u001b[0m\u001b[1;33m)\u001b[0m\u001b[1;33m\u001b[0m\u001b[0m\n",
      "\u001b[1;32m<ipython-input-9-0633b0c64706>\u001b[0m in \u001b[0;36mcalcduration\u001b[1;34m(indata)\u001b[0m\n\u001b[0;32m     27\u001b[0m \u001b[1;33m\u001b[0m\u001b[0m\n\u001b[0;32m     28\u001b[0m             \u001b[1;32melif\u001b[0m \u001b[1;33m(\u001b[0m\u001b[0mindata\u001b[0m\u001b[1;33m[\u001b[0m\u001b[0mi\u001b[0m\u001b[1;33m]\u001b[0m\u001b[1;33m[\u001b[0m\u001b[0mcol_day\u001b[0m\u001b[1;33m]\u001b[0m \u001b[1;33m!=\u001b[0m \u001b[0mindata\u001b[0m\u001b[1;33m[\u001b[0m\u001b[0mi\u001b[0m\u001b[1;33m+\u001b[0m\u001b[1;36m1\u001b[0m\u001b[1;33m]\u001b[0m\u001b[1;33m[\u001b[0m\u001b[0mcol_day\u001b[0m\u001b[1;33m]\u001b[0m\u001b[1;33m)\u001b[0m\u001b[1;33m:\u001b[0m\u001b[1;33m\u001b[0m\u001b[0m\n\u001b[1;32m---> 29\u001b[1;33m                 \u001b[1;32mprint\u001b[0m \u001b[0mcolored\u001b[0m\u001b[1;33m(\u001b[0m\u001b[1;34m\"\\n \\n \\n No departure time was available for \"\u001b[0m\u001b[1;33m,\u001b[0m\u001b[0mindata\u001b[0m\u001b[1;33m[\u001b[0m\u001b[0mi\u001b[0m\u001b[1;33m]\u001b[0m\u001b[1;33m[\u001b[0m\u001b[0mcol_day\u001b[0m\u001b[1;33m]\u001b[0m\u001b[1;33m,\u001b[0m \u001b[1;34m'green'\u001b[0m\u001b[1;33m)\u001b[0m\u001b[1;33m\u001b[0m\u001b[0m\n\u001b[0m\u001b[0;32m     30\u001b[0m                 \u001b[1;32mprint\u001b[0m \u001b[0mcolored\u001b[0m\u001b[1;33m(\u001b[0m\u001b[1;34m\"\\n \\n \\n Fix the file, then try again.\"\u001b[0m\u001b[1;33m,\u001b[0m \u001b[1;34m'red'\u001b[0m\u001b[1;33m)\u001b[0m\u001b[1;33m\u001b[0m\u001b[0m\n\u001b[0;32m     31\u001b[0m                 \u001b[0mpath\u001b[0m \u001b[1;33m=\u001b[0m \u001b[0mgetfoldername\u001b[0m\u001b[1;33m(\u001b[0m\u001b[1;33m)\u001b[0m\u001b[1;33m\u001b[0m\u001b[0m\n",
      "\u001b[1;31mNameError\u001b[0m: global name 'colored' is not defined"
     ]
    }
   ],
   "source": [
    "# main program\n",
    "\n",
    "print(\"1\")\n",
    "path = getfoldername()\n",
    "filename = getfilename(path) \n",
    "indata = opencsv(path,filename)                        # opens the file and deletes rows with no col_time entries\n",
    "\n",
    "print(\"2\")\n",
    "sortedtasks = sorted(calcduration(indata), key=itemgetter(col_day,col_slide,col_category))                          # calculates the duration of each task listed\n",
    "print(\"Saving the number of hours worked per task.\")\n",
    "savedata(sortedtasks,\"hourspertask.csv\")\n",
    "\n",
    "print(\"3\")\n",
    "sorteddate = sorted(indata, key=itemgetter(col_day))           # sorts by date\n",
    "totals = hoursperday(sorteddate)                        # calculates the number of hours worked each \n",
    "print(\"Saving the number of hours worked per day.\")\n",
    "savedata(totals,\"hoursperday.csv\")\n",
    "\n",
    "print(\"4\")\n",
    "sortedcat = sorted(indata, key=itemgetter(col_day,col_category))           # sorts by date, then category\n",
    "catsums = sumcategories(sortedcat)                        # sums durations for all tasks with matching date and category\n",
    "print(\"Saving the number of hours worked per category.\")\n",
    "savedata(catsums,\"hourspercat.csv\")\n",
    "\n",
    "print(\"5\")\n",
    "sortedslide = deleteblank(indata, col_slide)                      # deletes any row that doesn't have a slide name\n",
    "sortedslide = sorted(indata, key=itemgetter(col_slide))           # sorts remaining data by slide name\n",
    "slidesums = sumslides(sortedslide)              # sums durations for each slide name\n",
    "print(\"Saving the number of hours worked per slide.\")\n",
    "savedata(slidesums,\"hoursperslide.csv\")\n",
    "\n",
    "print(\" \\n Done.\")\n",
    "\n",
    "\n",
    "\n"
   ]
  },
  {
   "cell_type": "raw",
   "metadata": {
    "collapsed": true
   },
   "source": []
  },
  {
   "cell_type": "code",
   "execution_count": null,
   "metadata": {
    "collapsed": true
   },
   "outputs": [],
   "source": []
  }
 ],
 "metadata": {
  "kernelspec": {
   "display_name": "Python 2",
   "language": "python",
   "name": "python2"
  },
  "language_info": {
   "codemirror_mode": {
    "name": "ipython",
    "version": 2
   },
   "file_extension": ".py",
   "mimetype": "text/x-python",
   "name": "python",
   "nbconvert_exporter": "python",
   "pygments_lexer": "ipython2",
   "version": "2.7.11"
  }
 },
 "nbformat": 4,
 "nbformat_minor": 0
}
